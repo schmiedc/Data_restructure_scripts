{
 "cells": [
  {
   "cell_type": "markdown",
   "id": "9fa09466",
   "metadata": {},
   "source": [
    "# Data restructering preparations\n",
    "\n",
    "1. Copy original dataset to location on shark: Source_CellLine/ contains all plates\n",
    "2. On copy remove any spaces or special signs with removeSpace.py\n"
   ]
  },
  {
   "cell_type": "markdown",
   "id": "e54a4413",
   "metadata": {},
   "source": [
    "# Create Key File\n",
    "\n",
    "1. For each dataset generate the Keyfile that is used for generating the batch_name and plate_name\n",
    "\n",
    "Keyfile will be saved with in the folder Source_CellLine/ folder "
   ]
  },
  {
   "cell_type": "code",
   "execution_count": 1,
   "id": "cb5b309d",
   "metadata": {},
   "outputs": [],
   "source": [
    "# Create key_file.csv \n",
    "# This creates all necessary information from converting from our data structure to the broad data structure\n",
    "\n",
    "# Program after copy of original files to transfer directory\n",
    "# Removing any spaces and special signs from name\n",
    "\n",
    "# Specify the Source\n",
    "\n",
    "# load all folder names into file\n",
    "# Folder names will be Assay_Plate_Barcode\n",
    "# From name extract: Cell_Type, imaging_date, plate_name\n",
    "# Alt. supplement information from somewhere else\n",
    "# Generate and save a \"Key file\"\n",
    "# Assay_Plate_Barcode, Source, Plate_Map_Name, Imaging_Date, Cell_Type, Batch_Name\n",
    "\n",
    "import os\n",
    "import pandas as pd\n",
    "import re\n",
    "\n",
    "# Specify the directory path\n",
    "directory_path = '/home/schmiedc/FMP_Docs/Projects/CellPainting/DataUpload/TestInput_corr/'\n",
    "\n",
    "# top folder name - determined by Cell Painting Gallery (CPG) admins\n",
    "cpg_name = 'cpg0036-EU-OS-bioactives'\n",
    "\n",
    "# Source of data\n",
    "source = 'FMP'\n",
    "cell_type = 'U2OS'\n",
    "\n",
    "# Get all folder names in the directory\n",
    "folder_names = [name for name in os.listdir(directory_path) if os.path.isdir(os.path.join(directory_path, name))]\n",
    "\n",
    "# Create a DataFrame with the folder names\n",
    "key_file = pd.DataFrame(folder_names, columns=['Assay_Plate_Barcode'])\n",
    "\n",
    "# From name extract: imaging_date, plate_name\n",
    "# Alt. supplement information from somewhere else\n",
    "# Generate and save a \"Key file\"\n",
    "# Assay_Plate_Barcode, Source, Plate_Map_Name, Imaging_Date, Cell_Type, Batch_Name\n",
    "pattern = r'U2OS(B\\d+)(R\\d+)__(\\d{4}-\\d{2}-\\d{2})T(\\d{2}_\\d{2}_\\d{2})-'\n",
    "\n",
    "# Function to extract parts from a string\n",
    "def extract_parts(s):\n",
    "    match = re.search(pattern, s)\n",
    "    if match:\n",
    "        return match.group(1), match.group(2), match.group(3), match.group(4)\n",
    "    return None, None, None, None\n",
    "\n",
    "# Apply the function to the DataFrame\n",
    "key_file[['plate_name', 'replicate_number', 'imaging_date', 'imaging_time']] = key_file['Assay_Plate_Barcode'].apply(lambda x: pd.Series(extract_parts(x)))\n",
    "\n",
    "# add top folder to keyfile\n",
    "key_file['cpg_name'] = cpg_name\n",
    "\n",
    "# add source and cell type\n",
    "key_file['source'] = source\n",
    "key_file['cell_type'] = cell_type\n",
    "\n",
    "# create the Plate_Map_name value\n",
    "key_file['Plate_Map_Name'] = key_file['plate_name'] + '_' + key_file['replicate_number']\n",
    "\n",
    "# Add Batch_Number\n",
    "key_file['Batch_Number'] = key_file.groupby('imaging_date').ngroup() + 1\n",
    "key_file['Batch_Number'] = key_file['Batch_Number'].astype(str)\n",
    "\n",
    "# create the Batch_Name\n",
    "key_file['Batch_Name'] = key_file['imaging_date'] + '_Batch' + key_file['Batch_Number'] + '_' + key_file['cell_type']\n",
    "\n",
    "# adjust Batch_Name to use YYYY_MM_DD format\n",
    "key_file['Batch_Name'] = key_file['Batch_Name'].str.replace('-', '_') \n",
    "\n",
    "key_file.to_csv(directory_path + source + '_' + cell_type + '_keyfile.csv')  "
   ]
  },
  {
   "cell_type": "code",
   "execution_count": null,
   "id": "2aea67f3",
   "metadata": {},
   "outputs": [],
   "source": []
  }
 ],
 "metadata": {
  "kernelspec": {
   "display_name": "Python 3",
   "language": "python",
   "name": "python3"
  },
  "language_info": {
   "codemirror_mode": {
    "name": "ipython",
    "version": 3
   },
   "file_extension": ".py",
   "mimetype": "text/x-python",
   "name": "python",
   "nbconvert_exporter": "python",
   "pygments_lexer": "ipython3",
   "version": "3.9.16"
  }
 },
 "nbformat": 4,
 "nbformat_minor": 5
}
