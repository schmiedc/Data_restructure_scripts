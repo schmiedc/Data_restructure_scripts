{
 "cells": [
  {
   "cell_type": "markdown",
   "id": "ff6d8771",
   "metadata": {},
   "source": [
    "# external_metadata.tsv \n",
    "\n",
    "* These contain mapping between a perturbation identifier to other metadata using matching column names. \n",
    "\n",
    "| Metadata_EOS  | ...  |\n",
    "|---------------|------|\n",
    "| EOSXXXXXX     |      |\n",
    "| DMSO          |      |\n",
    "| Tetrandrine   |      |\n",
    "| Nocodazole    |      |\n",
    "| ...           |      |\n",
    "\n",
    "\n",
    "\n",
    "Metadata_EOS\n",
    "EU-OS_Library\n",
    "pdid\n",
    "smiles\n",
    "inchi, \n",
    "inchikey\n",
    "\n",
    "    \n",
    "TODO: create external metadata\n",
    "\n",
    "TODO: load external metdata modify to match \n",
    "\n",
    "TODO: save as external_metadata.tsv\n"
   ]
  },
  {
   "cell_type": "code",
   "execution_count": 24,
   "id": "c226d23d",
   "metadata": {},
   "outputs": [],
   "source": [
    "import pandas as pd\n",
    "\n",
    "# location of annotation\n",
    "annot_path = '/home/schmiedc/FMP_Docs/Projects/CellPainting/DataUpload/Annotations/'\n",
    "annot_name = '2022-05-13_Labels_Bioactives_Combined_with_Broad_MeSH_JUMP-CP.csv'\n",
    "\n",
    "annot_file = pd.read_csv(annot_path + annot_name)"
   ]
  },
  {
   "cell_type": "code",
   "execution_count": 25,
   "id": "07c5c995",
   "metadata": {},
   "outputs": [],
   "source": [
    "annot_file[\"EU-OS_Library\"] = 'ECBL'\n",
    "\n",
    "annot_file_revise = annot_file[[\"EOS\",\n",
    "                                \"EU-OS_Library\",\n",
    "                                \"pdid\",\n",
    "                                \"EUopen_smiles\",\n",
    "                                \"EUopen_inchi\", \n",
    "                                \"EUopen_inchikey\"]]"
   ]
  },
  {
   "cell_type": "code",
   "execution_count": 26,
   "id": "dd3ab554",
   "metadata": {},
   "outputs": [],
   "source": [
    "annot_file_revise = annot_file_revise.rename(columns={\"EOS\": \"Metadata_EOS\",\n",
    "                                                      \"EUopen_smiles\": \"smiles\", \n",
    "                                                      \"EUopen_inchi\" : \"inchi\",\n",
    "                                                      \"EUopen_inchikey\" : \"inchikey\"\n",
    "                                                     })"
   ]
  },
  {
   "cell_type": "code",
   "execution_count": 27,
   "id": "3fb9b104",
   "metadata": {},
   "outputs": [],
   "source": [
    "filename_external_metadata = annot_path + 'external_metadata.tsv'\n",
    "annot_file_revise .to_csv(filename_external_metadata, sep=\"\\t\") "
   ]
  },
  {
   "cell_type": "code",
   "execution_count": null,
   "id": "fca8e736",
   "metadata": {},
   "outputs": [],
   "source": []
  }
 ],
 "metadata": {
  "kernelspec": {
   "display_name": "Python 3",
   "language": "python",
   "name": "python3"
  },
  "language_info": {
   "codemirror_mode": {
    "name": "ipython",
    "version": 3
   },
   "file_extension": ".py",
   "mimetype": "text/x-python",
   "name": "python",
   "nbconvert_exporter": "python",
   "pygments_lexer": "ipython3",
   "version": "3.9.16"
  }
 },
 "nbformat": 4,
 "nbformat_minor": 5
}
